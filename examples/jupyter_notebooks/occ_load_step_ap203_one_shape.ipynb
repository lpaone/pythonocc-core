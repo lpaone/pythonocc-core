{
 "cells": [
  {
   "cell_type": "code",
   "execution_count": 1,
   "metadata": {},
   "outputs": [],
   "source": [
    "import random\n",
    "import os\n",
    "import os.path\n",
    "import sys\n",
    "\n",
    "from OCC.STEPControl import STEPControl_Reader\n",
    "from OCC.IFSelect import IFSelect_RetDone, IFSelect_ItemsByEntity"
   ]
  },
  {
   "cell_type": "code",
   "execution_count": 2,
   "metadata": {},
   "outputs": [],
   "source": [
    "from OCC.Display.WebGl.jupyter_renderer import JupyterRenderer"
   ]
  },
  {
   "cell_type": "code",
   "execution_count": 3,
   "metadata": {},
   "outputs": [],
   "source": [
    "def read_step_file(filename):\n",
    "    \"\"\" read the STEP file and returns a compound\n",
    "    \"\"\"\n",
    "    step_reader = STEPControl_Reader()\n",
    "    status = step_reader.ReadFile(filename)\n",
    "\n",
    "    if status == IFSelect_RetDone:  # check status\n",
    "        failsonly = False\n",
    "        step_reader.PrintCheckLoad(failsonly, IFSelect_ItemsByEntity)\n",
    "        step_reader.PrintCheckTransfer(failsonly, IFSelect_ItemsByEntity)\n",
    "\n",
    "        ok = step_reader.TransferRoot(1)\n",
    "        _nbs = step_reader.NbShapes()\n",
    "        aResShape = step_reader.Shape(1)\n",
    "    else:\n",
    "        print(\"Error: can't read file.\")\n",
    "        sys.exit(0)\n",
    "    return aResShape\n",
    "\n",
    "shp = read_step_file(os.path.join('..', 'models', 'RC_Buggy_2_front_suspension.stp'))"
   ]
  },
  {
   "cell_type": "code",
   "execution_count": 7,
   "metadata": {},
   "outputs": [],
   "source": [
    "my_renderer = JupyterRenderer(size=(800,800))"
   ]
  },
  {
   "cell_type": "code",
   "execution_count": 8,
   "metadata": {},
   "outputs": [],
   "source": [
    "my_renderer.DisplayShape(shp, render_edges=True)"
   ]
  },
  {
   "cell_type": "code",
   "execution_count": 9,
   "metadata": {},
   "outputs": [
    {
     "data": {
      "application/vnd.jupyter.widget-view+json": {
       "model_id": "6c93425d59074c1891d191c44ee2223e",
       "version_major": 2,
       "version_minor": 0
      },
      "text/html": [
       "<p>Failed to display Jupyter Widget of type <code>HTML</code>.</p>\n",
       "<p>\n",
       "  If you're reading this message in the Jupyter Notebook or JupyterLab Notebook, it may mean\n",
       "  that the widgets JavaScript is still loading. If this message persists, it\n",
       "  likely means that the widgets JavaScript library is either not installed or\n",
       "  not enabled. See the <a href=\"https://ipywidgets.readthedocs.io/en/stable/user_install.html\">Jupyter\n",
       "  Widgets Documentation</a> for setup instructions.\n",
       "</p>\n",
       "<p>\n",
       "  If you're reading this message in another frontend (for example, a static\n",
       "  rendering on GitHub or <a href=\"https://nbviewer.jupyter.org/\">NBViewer</a>),\n",
       "  it may mean that your frontend doesn't currently support widgets.\n",
       "</p>\n"
      ],
      "text/plain": [
       "HTML(value='mesh id:<br>shape id:')"
      ]
     },
     "metadata": {},
     "output_type": "display_data"
    },
    {
     "data": {
      "application/vnd.jupyter.widget-view+json": {
       "model_id": "d08417768d2b4dfb94b44c95b0e2fb91",
       "version_major": 2,
       "version_minor": 0
      },
      "text/html": [
       "<p>Failed to display Jupyter Widget of type <code>Renderer</code>.</p>\n",
       "<p>\n",
       "  If you're reading this message in the Jupyter Notebook or JupyterLab Notebook, it may mean\n",
       "  that the widgets JavaScript is still loading. If this message persists, it\n",
       "  likely means that the widgets JavaScript library is either not installed or\n",
       "  not enabled. See the <a href=\"https://ipywidgets.readthedocs.io/en/stable/user_install.html\">Jupyter\n",
       "  Widgets Documentation</a> for setup instructions.\n",
       "</p>\n",
       "<p>\n",
       "  If you're reading this message in another frontend (for example, a static\n",
       "  rendering on GitHub or <a href=\"https://nbviewer.jupyter.org/\">NBViewer</a>),\n",
       "  it may mean that your frontend doesn't currently support widgets.\n",
       "</p>\n"
      ],
      "text/plain": [
       "Renderer(background='white', camera=PerspectiveCamera(children=(DirectionalLight(intensity=0.5, position=(50.0, 50.0, 50.0), quaternion=(0.0, 0.0, 0.0, 1.0), scale=(1.0, 1.0, 1.0), up=(0.0, 1.0, 0.0)),), position=(0.0, -358.57755549046954, -162.5910018635493), quaternion=(0.0, 0.0, 0.0, 1.0), scale=(1.0, 1.0, 1.0), up=(0.0, 0.0, 1.0)), controls=[OrbitControls(controlling=PerspectiveCamera(children=(DirectionalLight(intensity=0.5, position=(50.0, 50.0, 50.0), quaternion=(0.0, 0.0, 0.0, 1.0), scale=(1.0, 1.0, 1.0), up=(0.0, 1.0, 0.0)),), position=(0.0, -358.57755549046954, -162.5910018635493), quaternion=(0.0, 0.0, 0.0, 1.0), scale=(1.0, 1.0, 1.0), up=(0.0, 0.0, 1.0)), target=(0.0006432269594540685, 14.795090813874044, -40.64775046588733)), Picker(controlling=Group(children=(Mesh(geometry=BufferGeometry(attributes={'position': BufferAttribute(array=array([[ 13.35946369,  11.34571552,  22.5       ],\n",
       "       [ 13.54709244,  11.3575201 ,  22.5       ],\n",
       "       [ 13.35946369,  11.34571552,  23.5       ],\n",
       "       ..., \n",
       "       [ 28.10727119,  26.04367065,  -1.99000001],\n",
       "       [ 28.15982437,  26.00403404,  -1.99000001],\n",
       "       [ 28.10086632,  26.03387642,  -1.99000001]], dtype=float32)), 'index': BufferAttribute(array=array([      0,       1,       2, ..., 1655640, 1655641, 1655642], dtype=uint32)), 'normal': BufferAttribute(array=array([[  1.87381312e-01,  -9.82287228e-01,  -1.29750053e-15],\n",
       "       [ -6.27905205e-02,  -9.98026729e-01,  -1.14919723e-15],\n",
       "       [  1.87381312e-01,  -9.82287228e-01,  -1.29750053e-15],\n",
       "       ..., \n",
       "       [ -1.46536562e-15,   1.56796355e-15,  -1.00000000e+00],\n",
       "       [ -1.46536562e-15,   1.56796355e-15,  -1.00000000e+00],\n",
       "       [ -1.46536562e-15,   1.56796355e-15,  -1.00000000e+00]], dtype=float32))}), material=MeshPhongMaterial(alphaMap=None, aoMap=None, bumpMap=None, color='#a6a6a6', displacementMap=None, emissiveMap=None, envMap=None, lightMap=None, map=None, normalMap=None, normalScale=(1.0, 1.0), polygonOffset=True, polygonOffsetFactor=1.0, polygonOffsetUnits=1.0, shininess=0.9, specularMap=None), name='6275f68e72ea4347b962b9643ba5f72f', quaternion=(0.0, 0.0, 0.0, 1.0), scale=(1.0, 1.0, 1.0), up=(0.0, 1.0, 0.0)),), quaternion=(0.0, 0.0, 0.0, 1.0), scale=(1.0, 1.0, 1.0), type='Group', up=(0.0, 1.0, 0.0)), object=None)], scene=Scene(children=(Group(children=(Mesh(geometry=BufferGeometry(attributes={'position': BufferAttribute(array=array([[ 13.35946369,  11.34571552,  22.5       ],\n",
       "       [ 13.54709244,  11.3575201 ,  22.5       ],\n",
       "       [ 13.35946369,  11.34571552,  23.5       ],\n",
       "       ..., \n",
       "       [ 28.10727119,  26.04367065,  -1.99000001],\n",
       "       [ 28.15982437,  26.00403404,  -1.99000001],\n",
       "       [ 28.10086632,  26.03387642,  -1.99000001]], dtype=float32)), 'index': BufferAttribute(array=array([      0,       1,       2, ..., 1655640, 1655641, 1655642], dtype=uint32)), 'normal': BufferAttribute(array=array([[  1.87381312e-01,  -9.82287228e-01,  -1.29750053e-15],\n",
       "       [ -6.27905205e-02,  -9.98026729e-01,  -1.14919723e-15],\n",
       "       [  1.87381312e-01,  -9.82287228e-01,  -1.29750053e-15],\n",
       "       ..., \n",
       "       [ -1.46536562e-15,   1.56796355e-15,  -1.00000000e+00],\n",
       "       [ -1.46536562e-15,   1.56796355e-15,  -1.00000000e+00],\n",
       "       [ -1.46536562e-15,   1.56796355e-15,  -1.00000000e+00]], dtype=float32))}), material=MeshPhongMaterial(alphaMap=None, aoMap=None, bumpMap=None, color='#a6a6a6', displacementMap=None, emissiveMap=None, envMap=None, lightMap=None, map=None, normalMap=None, normalScale=(1.0, 1.0), polygonOffset=True, polygonOffsetFactor=1.0, polygonOffsetUnits=1.0, shininess=0.9, specularMap=None), name='6275f68e72ea4347b962b9643ba5f72f', quaternion=(0.0, 0.0, 0.0, 1.0), scale=(1.0, 1.0, 1.0), up=(0.0, 1.0, 0.0)),), quaternion=(0.0, 0.0, 0.0, 1.0), scale=(1.0, 1.0, 1.0), type='Group', up=(0.0, 1.0, 0.0)), PerspectiveCamera(children=(DirectionalLight(intensity=0.5, position=(50.0, 50.0, 50.0), quaternion=(0.0, 0.0, 0.0, 1.0), scale=(1.0, 1.0, 1.0), up=(0.0, 1.0, 0.0)),), position=(0.0, -358.57755549046954, -162.5910018635493), quaternion=(0.0, 0.0, 0.0, 1.0), scale=(1.0, 1.0, 1.0), up=(0.0, 0.0, 1.0)), AmbientLight(color='#101010', quaternion=(0.0, 0.0, 0.0, 1.0), scale=(1.0, 1.0, 1.0), up=(0.0, 1.0, 0.0))), fog=None, overrideMaterial=None, quaternion=(0.0, 0.0, 0.0, 1.0), scale=(1.0, 1.0, 1.0), up=(0.0, 1.0, 0.0)), shadowMap=WebGLShadowMap())"
      ]
     },
     "metadata": {},
     "output_type": "display_data"
    }
   ],
   "source": [
    "my_renderer.Display()"
   ]
  },
  {
   "cell_type": "code",
   "execution_count": null,
   "metadata": {},
   "outputs": [],
   "source": []
  }
 ],
 "metadata": {
  "kernelspec": {
   "display_name": "Python 3",
   "language": "python",
   "name": "python3"
  },
  "language_info": {
   "codemirror_mode": {
    "name": "ipython",
    "version": 3
   },
   "file_extension": ".py",
   "mimetype": "text/x-python",
   "name": "python",
   "nbconvert_exporter": "python",
   "pygments_lexer": "ipython3",
   "version": "3.6.3"
  }
 },
 "nbformat": 4,
 "nbformat_minor": 2
}
